{
  "nbformat": 4,
  "nbformat_minor": 0,
  "metadata": {
    "colab": {
      "name": "Autoencoder trial.ipynb",
      "provenance": [],
      "toc_visible": true,
      "authorship_tag": "ABX9TyMV7fczz5lbv71Aev5Nw2KO",
      "include_colab_link": true
    },
    "kernelspec": {
      "name": "python3",
      "display_name": "Python 3"
    }
  },
  "cells": [
    {
      "cell_type": "markdown",
      "metadata": {
        "id": "view-in-github",
        "colab_type": "text"
      },
      "source": [
        "<a href=\"https://colab.research.google.com/github/yasseriz/SRGAN/blob/yasseriz-final/Autoencoder_trial.ipynb\" target=\"_parent\"><img src=\"https://colab.research.google.com/assets/colab-badge.svg\" alt=\"Open In Colab\"/></a>"
      ]
    },
    {
      "cell_type": "code",
      "metadata": {
        "id": "bYO7_xfRFYzo",
        "colab_type": "code",
        "outputId": "bce15990-ce37-436c-f45c-92b791913373",
        "colab": {
          "base_uri": "https://localhost:8080/",
          "height": 121
        }
      },
      "source": [
        "# Cloned SRGAN repo\n",
        "!git clone https://github.com/yasseriz/SRGAN.git"
      ],
      "execution_count": 0,
      "outputs": [
        {
          "output_type": "stream",
          "text": [
            "Cloning into 'SRGAN'...\n",
            "remote: Enumerating objects: 12, done.\u001b[K\n",
            "remote: Counting objects:   8% (1/12)\u001b[K\rremote: Counting objects:  16% (2/12)\u001b[K\rremote: Counting objects:  25% (3/12)\u001b[K\rremote: Counting objects:  33% (4/12)\u001b[K\rremote: Counting objects:  41% (5/12)\u001b[K\rremote: Counting objects:  50% (6/12)\u001b[K\rremote: Counting objects:  58% (7/12)\u001b[K\rremote: Counting objects:  66% (8/12)\u001b[K\rremote: Counting objects:  75% (9/12)\u001b[K\rremote: Counting objects:  83% (10/12)\u001b[K\rremote: Counting objects:  91% (11/12)\u001b[K\rremote: Counting objects: 100% (12/12)\u001b[K\rremote: Counting objects: 100% (12/12), done.\u001b[K\n",
            "remote: Compressing objects: 100% (12/12), done.\u001b[K\n",
            "remote: Total 64 (delta 4), reused 0 (delta 0), pack-reused 52\u001b[K\n",
            "Unpacking objects: 100% (64/64), done.\n"
          ],
          "name": "stdout"
        }
      ]
    },
    {
      "cell_type": "code",
      "metadata": {
        "id": "GQFcQbLAFZZV",
        "colab_type": "code",
        "outputId": "cab04910-86b7-496f-faa5-0096ed50322c",
        "colab": {
          "base_uri": "https://localhost:8080/",
          "height": 35
        }
      },
      "source": [
        "cd SRGAN/"
      ],
      "execution_count": 0,
      "outputs": [
        {
          "output_type": "stream",
          "text": [
            "/content/SRGAN\n"
          ],
          "name": "stdout"
        }
      ]
    },
    {
      "cell_type": "code",
      "metadata": {
        "id": "7e_ZWVDAFQHj",
        "colab_type": "code",
        "outputId": "4c1c71a9-4049-4337-94f3-31c8353262a1",
        "colab": {
          "base_uri": "https://localhost:8080/",
          "height": 52
        }
      },
      "source": [
        "!git checkout yasseriz-final"
      ],
      "execution_count": 0,
      "outputs": [
        {
          "output_type": "stream",
          "text": [
            "Branch 'yasseriz-final' set up to track remote branch 'yasseriz-final' from 'origin'.\n",
            "Switched to a new branch 'yasseriz-final'\n"
          ],
          "name": "stdout"
        }
      ]
    },
    {
      "cell_type": "code",
      "metadata": {
        "id": "GG99xh-bF3MT",
        "colab_type": "code",
        "outputId": "5a016c26-7271-441a-f567-37aba0aaa445",
        "colab": {
          "base_uri": "https://localhost:8080/",
          "height": 69
        }
      },
      "source": [
        "# !cd ..\n",
        "%ls\n"
      ],
      "execution_count": 0,
      "outputs": [
        {
          "output_type": "stream",
          "text": [
            "baboon.png   coastguard.png  flowers.png  man.png      ppt3.png      zebra.png\n",
            "barbara.png  comic.png       foreman.png  monarch.png  \u001b[0m\u001b[01;34msample_data\u001b[0m/\n",
            "bridge.png   face.png        lenna.png    pepper.png   \u001b[01;34mSRGAN\u001b[0m/\n"
          ],
          "name": "stdout"
        }
      ]
    },
    {
      "cell_type": "code",
      "metadata": {
        "id": "HjrmrT2gRC4d",
        "colab_type": "code",
        "outputId": "22acf534-a7ec-4f23-e325-be4fce921ace",
        "colab": {
          "base_uri": "https://localhost:8080/",
          "height": 280
        }
      },
      "source": [
        "!pip install scipy==1.0.0"
      ],
      "execution_count": 0,
      "outputs": [
        {
          "output_type": "stream",
          "text": [
            "Collecting scipy==1.0.0\n",
            "\u001b[?25l  Downloading https://files.pythonhosted.org/packages/d8/5e/caa01ba7be11600b6a9d39265440d7b3be3d69206da887c42bef049521f2/scipy-1.0.0-cp36-cp36m-manylinux1_x86_64.whl (50.0MB)\n",
            "\u001b[K     |████████████████████████████████| 50.0MB 84kB/s \n",
            "\u001b[?25hRequirement already satisfied: numpy>=1.8.2 in /usr/local/lib/python3.6/dist-packages (from scipy==1.0.0) (1.18.2)\n",
            "\u001b[31mERROR: tensorflow 2.2.0rc2 has requirement scipy==1.4.1; python_version >= \"3\", but you'll have scipy 1.0.0 which is incompatible.\u001b[0m\n",
            "\u001b[31mERROR: seaborn 0.10.0 has requirement scipy>=1.0.1, but you'll have scipy 1.0.0 which is incompatible.\u001b[0m\n",
            "\u001b[31mERROR: plotnine 0.6.0 has requirement scipy>=1.2.0, but you'll have scipy 1.0.0 which is incompatible.\u001b[0m\n",
            "\u001b[31mERROR: cvxpy 1.0.28 has requirement scipy>=1.1.0, but you'll have scipy 1.0.0 which is incompatible.\u001b[0m\n",
            "\u001b[31mERROR: albumentations 0.1.12 has requirement imgaug<0.2.7,>=0.2.5, but you'll have imgaug 0.2.9 which is incompatible.\u001b[0m\n",
            "Installing collected packages: scipy\n",
            "  Found existing installation: scipy 1.4.1\n",
            "    Uninstalling scipy-1.4.1:\n",
            "      Successfully uninstalled scipy-1.4.1\n",
            "Successfully installed scipy-1.0.0\n"
          ],
          "name": "stdout"
        }
      ]
    },
    {
      "cell_type": "code",
      "metadata": {
        "id": "9RjWyJoORiNX",
        "colab_type": "code",
        "outputId": "b3696407-2f47-4ddb-eacb-96c89477ec19",
        "colab": {
          "base_uri": "https://localhost:8080/",
          "height": 35
        }
      },
      "source": [
        "%tensorflow_version 1.x"
      ],
      "execution_count": 0,
      "outputs": [
        {
          "output_type": "stream",
          "text": [
            "TensorFlow 1.x selected.\n"
          ],
          "name": "stdout"
        }
      ]
    },
    {
      "cell_type": "code",
      "metadata": {
        "id": "O77JmotkKqJZ",
        "colab_type": "code",
        "colab": {}
      },
      "source": [
        "import keras\n",
        "import numpy as np\n",
        "from scipy.misc import imresize, imread\n",
        "from keras import Input\n",
        "from keras.layers import BatchNormalization, Activation, Add, LeakyReLU, Dense, MaxPooling2D\n",
        "from keras.layers.advanced_activations import PReLU\n",
        "from keras.layers.convolutional import Conv2D, UpSampling2D, Conv2DTranspose\n",
        "from keras.models import Model\n",
        "from keras.applications import VGG19\n",
        "import matplotlib.pyplot as plt\n",
        "from glob import glob\n",
        "import scipy.misc\n",
        "from PIL import Image\n"
      ],
      "execution_count": 0,
      "outputs": []
    },
    {
      "cell_type": "code",
      "metadata": {
        "id": "ikH0cvgUQLij",
        "colab_type": "code",
        "colab": {}
      },
      "source": [
        "def sample_images(data_dir, batch_size, high_resolution_shape, low_resolution_shape):\n",
        "\n",
        "    # Make a list of all images inside the data directory\n",
        "    all_images = data_dir\n",
        "\n",
        "    # Choose a random batch of images\n",
        "    images_batch = np.random.choice(all_images, size=batch_size)\n",
        "\n",
        "    low_resolution_images = []\n",
        "    high_resolution_images = []\n",
        "\n",
        "    for img in images_batch:\n",
        "        # Get an ndarray of the current image\n",
        "        img1 = imread(img, mode='RGB')\n",
        "        img1 = img1.astype(np.float32)\n",
        "\n",
        "        # Resize the image\n",
        "        img1_high_resolution = imresize(img1, high_resolution_shape)\n",
        "        img1_low_resolution = imresize(img1, low_resolution_shape)\n",
        "\n",
        "        # Do a random horizontal flip\n",
        "        if np.random.random() < 0.5:\n",
        "          img1_high_resolution = np.fliplr(img1_high_resolution)\n",
        "          img1_low_resolution = np.fliplr(img1_low_resolution)\n",
        "\n",
        "        high_resolution_images.append(img1_high_resolution)\n",
        "        low_resolution_images.append(img1_low_resolution)\n",
        "\n",
        "    # Convert the lists to Numpy NDArrays\n",
        "    return np.array(high_resolution_images), np.array(low_resolution_images)"
      ],
      "execution_count": 0,
      "outputs": []
    },
    {
      "cell_type": "code",
      "metadata": {
        "id": "nmFJiQo2oQJt",
        "colab_type": "code",
        "colab": {}
      },
      "source": [
        "def save_images(low_resolution_images, high_resolution_images, generated_images, path):\n",
        "    fig = plt.figure()\n",
        "    ax = fig.add_subplot(1, 3, 1)\n",
        "    ax.imshow(low_resolution_images[0])\n",
        "    ax.axis(\"off\")\n",
        "    ax.set_title(\"Low-resolution\")\n",
        "\n",
        "    ax = fig.add_subplot(1, 3, 2)\n",
        "    ax.imshow(high_resolution_images[0])\n",
        "    ax.axis(\"off\")\n",
        "    ax.set_title(\"Original\")\n",
        "\n",
        "    ax = fig.add_subplot(1, 3, 3)\n",
        "    ax.imshow(generated_images[0])\n",
        "    ax.axis(\"off\")\n",
        "    ax.set_title(\"Generated\")\n",
        "\n",
        "    plt.savefig(path)\n",
        "    plt.clf()"
      ],
      "execution_count": 0,
      "outputs": []
    },
    {
      "cell_type": "code",
      "metadata": {
        "id": "DHP-CkryX0vE",
        "colab_type": "code",
        "colab": {}
      },
      "source": [
        "# AutoEncoder Block\n",
        "def build_autoencoder():\n",
        "\n",
        "    input_shape = (256, 256, 3)\n",
        "    input_layer = Input(shape=input_shape)\n",
        "\n",
        "\n",
        "    x = Conv2D(512, (3, 3), activation='relu', strides=1, padding='same')(input_layer)\n",
        "    x = MaxPooling2D((2, 2), padding='same')(x)\n",
        "    x = Conv2D(256, (3, 3), activation='relu', strides=1, padding='same')(x)\n",
        "    encoded = MaxPooling2D((2, 2), padding='same')(x)\n",
        "\n",
        "    # at this point the representation is (7, 7, 32)\n",
        "\n",
        "    x = Conv2D(256, (3, 3), activation='relu', strides=1, padding='same')(encoded)\n",
        "    x = UpSampling2D((2, 2))(x)\n",
        "    x = Conv2D(512, (3, 3), activation='relu', strides=1, padding='same')(x)\n",
        "    x = UpSampling2D((2, 2))(x)\n",
        "    decoded = Conv2D(3, (3, 3), activation='tanh', strides=1, padding='same')(x)\n",
        "\n",
        "    autoencoder = Model(input_layer, decoded)\n",
        "    return autoencoder\n",
        "    autoencoder.compile(optimizer='adadelta', loss='mse')"
      ],
      "execution_count": 0,
      "outputs": []
    },
    {
      "cell_type": "code",
      "metadata": {
        "id": "hnK3s2ZvNiWO",
        "colab_type": "code",
        "colab": {}
      },
      "source": [
        "# Using a pretrained network\n",
        "def build_vgg():\n",
        "    \"\"\"\n",
        "    Builds a pre-trained VGG19 model that outputs image features extracted at the\n",
        "    third block of the model\n",
        "    \"\"\"\n",
        "    input_shape = (64, 64, 3)\n",
        "    vgg = VGG19(weights=\"imagenet\", input_shape=input_shape, include_top=False)\n",
        "    # Set the outputs to outputs of last conv. layer in block 3\n",
        "    # See architecture at: https://github.com/keras-team/keras/blob/master/keras/applications/vgg19.py\n",
        "    newOutput = vgg.predict(low_resolution_images)\n",
        "    print(vgg.summary())\n",
        "    img = Input(shape=input_shape)\n",
        "\n",
        "    # Extract the image features\n",
        "    img_features = vgg(img)\n",
        "\n",
        "    return Model(inputs=[img], outputs=[img_features], name='VGG')"
      ],
      "execution_count": 0,
      "outputs": []
    },
    {
      "cell_type": "code",
      "metadata": {
        "id": "BV6K3p6pVTeM",
        "colab_type": "code",
        "colab": {}
      },
      "source": [
        "data_dir = glob('./Dataset/*')\n",
        "epochs = 501\n",
        "batch_size = 1\n",
        "low_resolution_shape=(64, 64, 3)\n",
        "high_resolution_shape=(256, 256, 3)\n"
      ],
      "execution_count": 0,
      "outputs": []
    },
    {
      "cell_type": "code",
      "metadata": {
        "id": "dR6FfHmwdIcI",
        "colab_type": "code",
        "outputId": "3a71675f-8bd6-41b3-b9cc-010a10df9fb3",
        "colab": {
          "base_uri": "https://localhost:8080/",
          "height": 520
        }
      },
      "source": [
        "autoencoder = build_autoencoder()\n",
        "autoencoder.compile(optimizer='Adam', loss='mse')\n",
        "# print(autoencoder.metric_names)\n",
        "print(autoencoder.summary())\n"
      ],
      "execution_count": 0,
      "outputs": [
        {
          "output_type": "stream",
          "text": [
            "Model: \"model_3\"\n",
            "_________________________________________________________________\n",
            "Layer (type)                 Output Shape              Param #   \n",
            "=================================================================\n",
            "input_4 (InputLayer)         (None, 256, 256, 3)       0         \n",
            "_________________________________________________________________\n",
            "conv2d_11 (Conv2D)           (None, 256, 256, 512)     14336     \n",
            "_________________________________________________________________\n",
            "max_pooling2d_5 (MaxPooling2 (None, 128, 128, 512)     0         \n",
            "_________________________________________________________________\n",
            "conv2d_12 (Conv2D)           (None, 128, 128, 256)     1179904   \n",
            "_________________________________________________________________\n",
            "max_pooling2d_6 (MaxPooling2 (None, 64, 64, 256)       0         \n",
            "_________________________________________________________________\n",
            "conv2d_13 (Conv2D)           (None, 64, 64, 256)       590080    \n",
            "_________________________________________________________________\n",
            "up_sampling2d_5 (UpSampling2 (None, 128, 128, 256)     0         \n",
            "_________________________________________________________________\n",
            "conv2d_14 (Conv2D)           (None, 128, 128, 512)     1180160   \n",
            "_________________________________________________________________\n",
            "up_sampling2d_6 (UpSampling2 (None, 256, 256, 512)     0         \n",
            "_________________________________________________________________\n",
            "conv2d_15 (Conv2D)           (None, 256, 256, 3)       13827     \n",
            "=================================================================\n",
            "Total params: 2,978,307\n",
            "Trainable params: 2,978,307\n",
            "Non-trainable params: 0\n",
            "_________________________________________________________________\n",
            "None\n"
          ],
          "name": "stdout"
        }
      ]
    },
    {
      "cell_type": "code",
      "metadata": {
        "id": "nesz4WSSOThn",
        "colab_type": "code",
        "colab": {}
      },
      "source": [
        "vgg = build_vgg()\n",
        "vgg.trainable = False\n",
        "vgg.compile(optimizer='Adam', metrics=['accuracy'], loss='mse')\n",
        "print(vgg.summary())"
      ],
      "execution_count": 0,
      "outputs": []
    },
    {
      "cell_type": "code",
      "metadata": {
        "id": "ZQrzLk2iiDIW",
        "colab_type": "code",
        "outputId": "bfd0d549-8aa6-4dbe-af8b-8f861e5b8bb9",
        "colab": {
          "base_uri": "https://localhost:8080/",
          "height": 485
        }
      },
      "source": [
        "# Adding black pixels to image to simulate generated image from generator\n",
        "newpath = 'NoisyData/'\n",
        "datapoints = 16384\n",
        "xpoints = np.random.randint(0, 256)\n",
        "for j in range(14):\n",
        "    high_resolution_images, low_resolution_images = sample_images(data_dir=data_dir, batch_size=batch_size,\n",
        "                                                                            high_resolution_shape=high_resolution_shape,\n",
        "                                                                            low_resolution_shape=low_resolution_shape)\n",
        "    # high_resolution_images = high_resolution_images / 127.5 - 1\n",
        "    for i in range(datapoints):\n",
        "        xpoints = np.random.randint(0, 256)\n",
        "        ypoints = np.random.randint(0, 256)\n",
        "        zpoints = np.random.randint(0, 3)\n",
        "        high_resolution_images[0][xpoints][ypoints][0] = 0\n",
        "        high_resolution_images[0][xpoints][ypoints][1] = 0\n",
        "        high_resolution_images[0][xpoints][ypoints][2] = 0\n",
        "    new_noisy_high_resolution_images = high_resolution_images\n",
        "    print(new_noisy_high_resolution_images.shape)\n",
        "    # fig = plt.figure()\n",
        "    # plt.imshow(high_resolution_images[0])\n",
        "    # plt.savefig(newpath+str(j))\n",
        "    # plt.clf()\n",
        "    scipy.misc.imsave(newpath+str(j)+'.png', new_noisy_high_resolution_images[0])\n",
        "    # im = Image.fromarray(new_noisy_high_resolution_images[0])\n",
        "    # im.save(newpath+str(j)+'.png')"
      ],
      "execution_count": 0,
      "outputs": [
        {
          "output_type": "stream",
          "text": [
            "/usr/local/lib/python3.6/dist-packages/ipykernel_launcher.py:14: DeprecationWarning: `imread` is deprecated!\n",
            "`imread` is deprecated in SciPy 1.0.0, and will be removed in 1.2.0.\n",
            "Use ``imageio.imread`` instead.\n",
            "  \n",
            "/usr/local/lib/python3.6/dist-packages/ipykernel_launcher.py:18: DeprecationWarning: `imresize` is deprecated!\n",
            "`imresize` is deprecated in SciPy 1.0.0, and will be removed in 1.2.0.\n",
            "Use ``skimage.transform.resize`` instead.\n",
            "/usr/local/lib/python3.6/dist-packages/ipykernel_launcher.py:19: DeprecationWarning: `imresize` is deprecated!\n",
            "`imresize` is deprecated in SciPy 1.0.0, and will be removed in 1.2.0.\n",
            "Use ``skimage.transform.resize`` instead.\n"
          ],
          "name": "stderr"
        },
        {
          "output_type": "stream",
          "text": [
            "(1, 256, 256, 3)\n"
          ],
          "name": "stdout"
        },
        {
          "output_type": "stream",
          "text": [
            "/usr/local/lib/python3.6/dist-packages/ipykernel_launcher.py:22: DeprecationWarning: `imsave` is deprecated!\n",
            "`imsave` is deprecated in SciPy 1.0.0, and will be removed in 1.2.0.\n",
            "Use ``imageio.imwrite`` instead.\n"
          ],
          "name": "stderr"
        },
        {
          "output_type": "stream",
          "text": [
            "(1, 256, 256, 3)\n",
            "(1, 256, 256, 3)\n",
            "(1, 256, 256, 3)\n",
            "(1, 256, 256, 3)\n",
            "(1, 256, 256, 3)\n",
            "(1, 256, 256, 3)\n",
            "(1, 256, 256, 3)\n",
            "(1, 256, 256, 3)\n",
            "(1, 256, 256, 3)\n",
            "(1, 256, 256, 3)\n",
            "(1, 256, 256, 3)\n",
            "(1, 256, 256, 3)\n",
            "(1, 256, 256, 3)\n"
          ],
          "name": "stdout"
        }
      ]
    },
    {
      "cell_type": "code",
      "metadata": {
        "id": "CJ0K21Aair5o",
        "colab_type": "code",
        "outputId": "c0b5125f-b55c-470f-e2c0-9383e70ce93b",
        "colab": {
          "base_uri": "https://localhost:8080/",
          "height": 1000
        }
      },
      "source": [
        " for epoch in range(epochs):\n",
        "    high_resolution_images, low_resolution_images = sample_images(data_dir=data_dir, batch_size=batch_size,\n",
        "                                                                            high_resolution_shape=high_resolution_shape,\n",
        "                                                                            low_resolution_shape=low_resolution_shape)\n",
        "    high_resolution_images = high_resolution_images / 127.5 - 1\n",
        "    low_resolution_images = low_resolution_images / 127.5 - 1\n",
        "    noise_factor = 0.2\n",
        "    noisy_low_resolution_images = high_resolution_images + noise_factor * np.random.normal(loc=0.0, scale=1.0, size=high_resolution_shape) \n",
        "    # noisy_low_resolution_images = np.clip(noisy_low_resolution_images, 0., 1.)\n",
        "    \n",
        "    loss = autoencoder.train_on_batch(noisy_low_resolution_images, high_resolution_images)\n",
        "    print(loss)\n",
        "    if epoch%10==0:\n",
        "        high_resolution_images, low_resolution_images = sample_images(data_dir=data_dir, batch_size=batch_size,\n",
        "                                                                              high_resolution_shape=high_resolution_shape,\n",
        "                                                                              low_resolution_shape=low_resolution_shape)\n",
        "        # Normalizing the images\n",
        "        high_resolution_images = high_resolution_images / 127.5 - 1\n",
        "        low_resolution_images = low_resolution_images / 127.5 - 1\n",
        "        noisy_low_resolution_images = high_resolution_images + noise_factor * np.random.normal(loc=0.0, scale=1.0, size=high_resolution_shape) \n",
        "        # noisy_low_resolution_images = np.clip(noisy_low_resolution_images, 0., 1.)\n",
        "        generated_images = autoencoder.predict_on_batch(noisy_low_resolution_images)\n",
        "\n",
        "        high_resolution_images = 0.5 * high_resolution_images + 0.5\n",
        "        low_resolution_images = 0.5 * low_resolution_images + 0.5\n",
        "        generated_images = 0.5 * generated_images + 0.5\n",
        "        print(generated_images.shape)\n",
        "        for index, img in enumerate(generated_images):\n",
        "            save_images(noisy_low_resolution_images, high_resolution_images, generated_images,\n",
        "                        path=\"Results/img_{}\".format(epoch))\n"
      ],
      "execution_count": 0,
      "outputs": [
        {
          "output_type": "stream",
          "text": [
            "/usr/local/lib/python3.6/dist-packages/ipykernel_launcher.py:14: DeprecationWarning: `imread` is deprecated!\n",
            "`imread` is deprecated in SciPy 1.0.0, and will be removed in 1.2.0.\n",
            "Use ``imageio.imread`` instead.\n",
            "  \n",
            "/usr/local/lib/python3.6/dist-packages/ipykernel_launcher.py:18: DeprecationWarning: `imresize` is deprecated!\n",
            "`imresize` is deprecated in SciPy 1.0.0, and will be removed in 1.2.0.\n",
            "Use ``skimage.transform.resize`` instead.\n",
            "/usr/local/lib/python3.6/dist-packages/ipykernel_launcher.py:19: DeprecationWarning: `imresize` is deprecated!\n",
            "`imresize` is deprecated in SciPy 1.0.0, and will be removed in 1.2.0.\n",
            "Use ``skimage.transform.resize`` instead.\n"
          ],
          "name": "stderr"
        },
        {
          "output_type": "stream",
          "text": [
            "0.24094364\n"
          ],
          "name": "stdout"
        },
        {
          "output_type": "stream",
          "text": [
            "Clipping input data to the valid range for imshow with RGB data ([0..1] for floats or [0..255] for integers).\n"
          ],
          "name": "stderr"
        },
        {
          "output_type": "stream",
          "text": [
            "(1, 256, 256, 3)\n",
            "0.37607557\n",
            "0.7706921\n",
            "1.4117682\n",
            "1.1673467\n",
            "2.2498035\n",
            "0.98917407\n",
            "0.8314586\n",
            "0.5385311\n",
            "0.9068308\n",
            "0.5351839\n"
          ],
          "name": "stdout"
        },
        {
          "output_type": "stream",
          "text": [
            "Clipping input data to the valid range for imshow with RGB data ([0..1] for floats or [0..255] for integers).\n",
            "Clipping input data to the valid range for imshow with RGB data ([0..1] for floats or [0..255] for integers).\n"
          ],
          "name": "stderr"
        },
        {
          "output_type": "stream",
          "text": [
            "(1, 256, 256, 3)\n",
            "0.6593952\n",
            "1.1594044\n",
            "0.82804286\n",
            "0.99905026\n",
            "0.52631056\n",
            "0.97360885\n",
            "0.9357116\n",
            "1.1533821\n",
            "0.42016715\n",
            "0.5192211\n"
          ],
          "name": "stdout"
        },
        {
          "output_type": "stream",
          "text": [
            "Clipping input data to the valid range for imshow with RGB data ([0..1] for floats or [0..255] for integers).\n",
            "Clipping input data to the valid range for imshow with RGB data ([0..1] for floats or [0..255] for integers).\n"
          ],
          "name": "stderr"
        },
        {
          "output_type": "stream",
          "text": [
            "(1, 256, 256, 3)\n",
            "0.9568174\n",
            "1.2294586\n",
            "0.6664313\n",
            "0.6364391\n",
            "0.7528062\n",
            "0.49052614\n",
            "0.48275137\n",
            "0.48218107\n",
            "0.5098806\n",
            "0.51613724\n"
          ],
          "name": "stdout"
        },
        {
          "output_type": "stream",
          "text": [
            "Clipping input data to the valid range for imshow with RGB data ([0..1] for floats or [0..255] for integers).\n",
            "Clipping input data to the valid range for imshow with RGB data ([0..1] for floats or [0..255] for integers).\n"
          ],
          "name": "stderr"
        },
        {
          "output_type": "stream",
          "text": [
            "(1, 256, 256, 3)\n",
            "0.4703868\n",
            "0.47232193\n",
            "0.6925625\n",
            "0.6087902\n",
            "0.49566156\n",
            "0.42330232\n",
            "0.46218538\n",
            "0.4125901\n",
            "0.2794359\n",
            "0.2866636\n"
          ],
          "name": "stdout"
        },
        {
          "output_type": "stream",
          "text": [
            "Clipping input data to the valid range for imshow with RGB data ([0..1] for floats or [0..255] for integers).\n"
          ],
          "name": "stderr"
        },
        {
          "output_type": "stream",
          "text": [
            "(1, 256, 256, 3)\n",
            "0.38600707\n",
            "0.31770647\n",
            "0.36274055\n",
            "0.082124844\n",
            "0.237894\n",
            "0.1279155\n",
            "0.14542316\n",
            "0.1683296\n",
            "0.1315287\n",
            "0.11685879\n"
          ],
          "name": "stdout"
        },
        {
          "output_type": "stream",
          "text": [
            "Clipping input data to the valid range for imshow with RGB data ([0..1] for floats or [0..255] for integers).\n"
          ],
          "name": "stderr"
        },
        {
          "output_type": "stream",
          "text": [
            "(1, 256, 256, 3)\n",
            "0.049646165\n",
            "0.0799814\n",
            "0.17562942\n",
            "0.17483342\n",
            "0.1601935\n",
            "0.14594539\n",
            "0.059050217\n",
            "0.1373381\n",
            "0.07392638\n",
            "0.16378158\n"
          ],
          "name": "stdout"
        },
        {
          "output_type": "stream",
          "text": [
            "Clipping input data to the valid range for imshow with RGB data ([0..1] for floats or [0..255] for integers).\n"
          ],
          "name": "stderr"
        },
        {
          "output_type": "stream",
          "text": [
            "(1, 256, 256, 3)\n",
            "0.044116445\n",
            "0.12680508\n",
            "0.14445515\n",
            "0.08458732\n",
            "0.14236394\n",
            "0.08146468\n",
            "0.070267685\n",
            "0.12557776\n",
            "0.055725746\n",
            "0.07450342\n"
          ],
          "name": "stdout"
        },
        {
          "output_type": "stream",
          "text": [
            "Clipping input data to the valid range for imshow with RGB data ([0..1] for floats or [0..255] for integers).\n"
          ],
          "name": "stderr"
        },
        {
          "output_type": "stream",
          "text": [
            "(1, 256, 256, 3)\n",
            "0.0428731\n",
            "0.08257751\n",
            "0.055483423\n",
            "0.05142741\n",
            "0.051175162\n",
            "0.03887716\n",
            "0.032996073\n",
            "0.027219595\n",
            "0.111819305\n",
            "0.0743034\n"
          ],
          "name": "stdout"
        },
        {
          "output_type": "stream",
          "text": [
            "Clipping input data to the valid range for imshow with RGB data ([0..1] for floats or [0..255] for integers).\n"
          ],
          "name": "stderr"
        },
        {
          "output_type": "stream",
          "text": [
            "(1, 256, 256, 3)\n",
            "0.06470864\n",
            "0.062234133\n",
            "0.041230366\n",
            "0.04010792\n",
            "0.11541463\n",
            "0.045551293\n",
            "0.118771434\n",
            "0.041595794\n",
            "0.104957566\n",
            "0.036446784\n"
          ],
          "name": "stdout"
        },
        {
          "output_type": "stream",
          "text": [
            "Clipping input data to the valid range for imshow with RGB data ([0..1] for floats or [0..255] for integers).\n"
          ],
          "name": "stderr"
        },
        {
          "output_type": "stream",
          "text": [
            "(1, 256, 256, 3)\n",
            "0.06297049\n",
            "0.044311\n",
            "0.04066825\n",
            "0.06375814\n",
            "0.05964771\n",
            "0.0690221\n",
            "0.058881573\n",
            "0.036355022\n",
            "0.09598136\n",
            "0.055436566\n"
          ],
          "name": "stdout"
        },
        {
          "output_type": "stream",
          "text": [
            "Clipping input data to the valid range for imshow with RGB data ([0..1] for floats or [0..255] for integers).\n"
          ],
          "name": "stderr"
        },
        {
          "output_type": "stream",
          "text": [
            "(1, 256, 256, 3)\n",
            "0.09084049\n",
            "0.034981813\n",
            "0.045832425\n",
            "0.034409292\n",
            "0.081509024\n",
            "0.06712732\n",
            "0.03455741\n",
            "0.076285906\n",
            "0.03902196\n",
            "0.072088405\n"
          ],
          "name": "stdout"
        },
        {
          "output_type": "stream",
          "text": [
            "Clipping input data to the valid range for imshow with RGB data ([0..1] for floats or [0..255] for integers).\n"
          ],
          "name": "stderr"
        },
        {
          "output_type": "stream",
          "text": [
            "(1, 256, 256, 3)\n",
            "0.056747302\n",
            "0.06625528\n",
            "0.10039688\n",
            "0.06391336\n",
            "0.031279743\n",
            "0.025550049\n",
            "0.063651\n",
            "0.031948853\n",
            "0.07651006\n",
            "0.09100391\n"
          ],
          "name": "stdout"
        },
        {
          "output_type": "stream",
          "text": [
            "Clipping input data to the valid range for imshow with RGB data ([0..1] for floats or [0..255] for integers).\n"
          ],
          "name": "stderr"
        },
        {
          "output_type": "stream",
          "text": [
            "(1, 256, 256, 3)\n",
            "0.031878896\n",
            "0.05546788\n",
            "0.0444654\n",
            "0.051676627\n",
            "0.025944361\n",
            "0.04507629\n",
            "0.08810295\n",
            "0.077796146\n",
            "0.043217525\n",
            "0.06541112\n"
          ],
          "name": "stdout"
        },
        {
          "output_type": "stream",
          "text": [
            "Clipping input data to the valid range for imshow with RGB data ([0..1] for floats or [0..255] for integers).\n"
          ],
          "name": "stderr"
        },
        {
          "output_type": "stream",
          "text": [
            "(1, 256, 256, 3)\n",
            "0.053153034\n",
            "0.03193911\n",
            "0.036914952\n",
            "0.04774306\n",
            "0.021760367\n",
            "0.04304092\n",
            "0.029736381\n",
            "0.05079808\n",
            "0.026481193\n",
            "0.03093205\n"
          ],
          "name": "stdout"
        },
        {
          "output_type": "stream",
          "text": [
            "Clipping input data to the valid range for imshow with RGB data ([0..1] for floats or [0..255] for integers).\n"
          ],
          "name": "stderr"
        },
        {
          "output_type": "stream",
          "text": [
            "(1, 256, 256, 3)\n",
            "0.037237823\n",
            "0.051605716\n",
            "0.081665516\n",
            "0.04543542\n",
            "0.04022014\n",
            "0.03491018\n",
            "0.041215494\n",
            "0.027603196\n",
            "0.08242267\n",
            "0.051227473\n"
          ],
          "name": "stdout"
        },
        {
          "output_type": "stream",
          "text": [
            "Clipping input data to the valid range for imshow with RGB data ([0..1] for floats or [0..255] for integers).\n"
          ],
          "name": "stderr"
        },
        {
          "output_type": "stream",
          "text": [
            "(1, 256, 256, 3)\n",
            "0.022015277\n",
            "0.041179392\n",
            "0.051742554\n",
            "0.030849533\n",
            "0.029356336\n",
            "0.08125961\n",
            "0.019931411\n",
            "0.035301358\n",
            "0.022814834\n",
            "0.07864822\n"
          ],
          "name": "stdout"
        },
        {
          "output_type": "stream",
          "text": [
            "Clipping input data to the valid range for imshow with RGB data ([0..1] for floats or [0..255] for integers).\n"
          ],
          "name": "stderr"
        },
        {
          "output_type": "stream",
          "text": [
            "(1, 256, 256, 3)\n",
            "0.023094283\n",
            "0.04958422\n",
            "0.07013053\n",
            "0.06282389\n",
            "0.058698576\n",
            "0.03955976\n",
            "0.0330837\n",
            "0.030586937\n",
            "0.024141755\n",
            "0.029721553\n"
          ],
          "name": "stdout"
        },
        {
          "output_type": "stream",
          "text": [
            "Clipping input data to the valid range for imshow with RGB data ([0..1] for floats or [0..255] for integers).\n"
          ],
          "name": "stderr"
        },
        {
          "output_type": "stream",
          "text": [
            "(1, 256, 256, 3)\n",
            "0.030318677\n",
            "0.022606324\n",
            "0.043067068\n",
            "0.066089936\n",
            "0.07060225\n",
            "0.028592423\n",
            "0.026086237\n",
            "0.04484744\n",
            "0.047160212\n",
            "0.050287355\n"
          ],
          "name": "stdout"
        },
        {
          "output_type": "stream",
          "text": [
            "Clipping input data to the valid range for imshow with RGB data ([0..1] for floats or [0..255] for integers).\n"
          ],
          "name": "stderr"
        },
        {
          "output_type": "stream",
          "text": [
            "(1, 256, 256, 3)\n",
            "0.024083983\n",
            "0.021579962\n",
            "0.021444105\n",
            "0.03939818\n",
            "0.021479147\n",
            "0.06956859\n",
            "0.05771096\n",
            "0.041887313\n",
            "0.026404453\n",
            "0.05464705\n"
          ],
          "name": "stdout"
        },
        {
          "output_type": "stream",
          "text": [
            "Clipping input data to the valid range for imshow with RGB data ([0..1] for floats or [0..255] for integers).\n"
          ],
          "name": "stderr"
        },
        {
          "output_type": "stream",
          "text": [
            "(1, 256, 256, 3)\n",
            "0.024358524\n",
            "0.045505192\n",
            "0.022925703\n",
            "0.042304546\n",
            "0.022769755\n",
            "0.0417997\n",
            "0.026020044\n",
            "0.016093696\n",
            "0.055178795\n",
            "0.029872036\n"
          ],
          "name": "stdout"
        },
        {
          "output_type": "stream",
          "text": [
            "/usr/local/lib/python3.6/dist-packages/ipykernel_launcher.py:2: RuntimeWarning: More than 20 figures have been opened. Figures created through the pyplot interface (`matplotlib.pyplot.figure`) are retained until explicitly closed and may consume too much memory. (To control this warning, see the rcParam `figure.max_open_warning`).\n",
            "  \n",
            "Clipping input data to the valid range for imshow with RGB data ([0..1] for floats or [0..255] for integers).\n"
          ],
          "name": "stderr"
        },
        {
          "output_type": "stream",
          "text": [
            "(1, 256, 256, 3)\n",
            "0.0175426\n",
            "0.035177797\n",
            "0.06391698\n",
            "0.04004368\n",
            "0.016709868\n",
            "0.030143127\n",
            "0.056153953\n",
            "0.025469247\n",
            "0.019377796\n",
            "0.029480891\n"
          ],
          "name": "stdout"
        },
        {
          "output_type": "stream",
          "text": [
            "Clipping input data to the valid range for imshow with RGB data ([0..1] for floats or [0..255] for integers).\n"
          ],
          "name": "stderr"
        },
        {
          "output_type": "stream",
          "text": [
            "(1, 256, 256, 3)\n",
            "0.024030495\n",
            "0.025239091\n",
            "0.05640673\n",
            "0.03611431\n",
            "0.022618845\n",
            "0.04470853\n",
            "0.03906741\n",
            "0.042031627\n",
            "0.044541925\n",
            "0.043123208\n"
          ],
          "name": "stdout"
        },
        {
          "output_type": "stream",
          "text": [
            "Clipping input data to the valid range for imshow with RGB data ([0..1] for floats or [0..255] for integers).\n"
          ],
          "name": "stderr"
        },
        {
          "output_type": "stream",
          "text": [
            "(1, 256, 256, 3)\n",
            "0.05545768\n",
            "0.019000288\n",
            "0.025124602\n",
            "0.024733357\n",
            "0.0326501\n",
            "0.05353287\n",
            "0.028172744\n",
            "0.049070183\n",
            "0.02074797\n",
            "0.022902362\n"
          ],
          "name": "stdout"
        },
        {
          "output_type": "stream",
          "text": [
            "Clipping input data to the valid range for imshow with RGB data ([0..1] for floats or [0..255] for integers).\n"
          ],
          "name": "stderr"
        },
        {
          "output_type": "stream",
          "text": [
            "(1, 256, 256, 3)\n",
            "0.017661287\n",
            "0.016395021\n",
            "0.027153261\n",
            "0.042671848\n",
            "0.021794576\n",
            "0.024647603\n",
            "0.031594448\n",
            "0.020357734\n",
            "0.034161452\n",
            "0.023804206\n"
          ],
          "name": "stdout"
        },
        {
          "output_type": "stream",
          "text": [
            "Clipping input data to the valid range for imshow with RGB data ([0..1] for floats or [0..255] for integers).\n"
          ],
          "name": "stderr"
        },
        {
          "output_type": "stream",
          "text": [
            "(1, 256, 256, 3)\n",
            "0.022570051\n",
            "0.02094786\n",
            "0.023646241\n",
            "0.043228887\n",
            "0.020080097\n",
            "0.019268531\n",
            "0.033826314\n",
            "0.019602515\n",
            "0.071878485\n",
            "0.028250745\n"
          ],
          "name": "stdout"
        },
        {
          "output_type": "stream",
          "text": [
            "Clipping input data to the valid range for imshow with RGB data ([0..1] for floats or [0..255] for integers).\n"
          ],
          "name": "stderr"
        },
        {
          "output_type": "stream",
          "text": [
            "(1, 256, 256, 3)\n",
            "0.027678369\n",
            "0.02528557\n",
            "0.026455358\n",
            "0.028462453\n",
            "0.016041772\n",
            "0.016738743\n",
            "0.04572013\n",
            "0.04212015\n",
            "0.020478394\n",
            "0.068372525\n"
          ],
          "name": "stdout"
        },
        {
          "output_type": "stream",
          "text": [
            "Clipping input data to the valid range for imshow with RGB data ([0..1] for floats or [0..255] for integers).\n"
          ],
          "name": "stderr"
        },
        {
          "output_type": "stream",
          "text": [
            "(1, 256, 256, 3)\n",
            "0.04780052\n",
            "0.038244657\n",
            "0.04502698\n",
            "0.020794777\n",
            "0.037877563\n",
            "0.04171594\n",
            "0.028308272\n",
            "0.027163133\n",
            "0.052648697\n",
            "0.02331179\n"
          ],
          "name": "stdout"
        },
        {
          "output_type": "stream",
          "text": [
            "Clipping input data to the valid range for imshow with RGB data ([0..1] for floats or [0..255] for integers).\n"
          ],
          "name": "stderr"
        },
        {
          "output_type": "stream",
          "text": [
            "(1, 256, 256, 3)\n",
            "0.055696987\n",
            "0.05801712\n",
            "0.04369631\n",
            "0.07687131\n",
            "0.037109263\n",
            "0.022360116\n",
            "0.024799308\n",
            "0.047100075\n",
            "0.017461384\n",
            "0.046337113\n"
          ],
          "name": "stdout"
        },
        {
          "output_type": "stream",
          "text": [
            "Clipping input data to the valid range for imshow with RGB data ([0..1] for floats or [0..255] for integers).\n"
          ],
          "name": "stderr"
        },
        {
          "output_type": "stream",
          "text": [
            "(1, 256, 256, 3)\n",
            "0.04103908\n",
            "0.015815478\n",
            "0.021177173\n",
            "0.02124596\n",
            "0.06383136\n",
            "0.021871489\n",
            "0.015836718\n",
            "0.018916823\n",
            "0.02080101\n",
            "0.06351164\n"
          ],
          "name": "stdout"
        },
        {
          "output_type": "stream",
          "text": [
            "Clipping input data to the valid range for imshow with RGB data ([0..1] for floats or [0..255] for integers).\n"
          ],
          "name": "stderr"
        },
        {
          "output_type": "stream",
          "text": [
            "(1, 256, 256, 3)\n",
            "0.032988258\n",
            "0.014732986\n",
            "0.020722859\n",
            "0.05676141\n",
            "0.051771615\n",
            "0.014650399\n",
            "0.015557592\n",
            "0.019418037\n",
            "0.044534914\n",
            "0.032920234\n"
          ],
          "name": "stdout"
        },
        {
          "output_type": "stream",
          "text": [
            "Clipping input data to the valid range for imshow with RGB data ([0..1] for floats or [0..255] for integers).\n"
          ],
          "name": "stderr"
        },
        {
          "output_type": "stream",
          "text": [
            "(1, 256, 256, 3)\n",
            "0.056049418\n",
            "0.019539805\n",
            "0.01613554\n",
            "0.013870567\n",
            "0.017924897\n",
            "0.030731622\n",
            "0.012661237\n",
            "0.020279864\n",
            "0.02152434\n",
            "0.010702049\n"
          ],
          "name": "stdout"
        },
        {
          "output_type": "stream",
          "text": [
            "Clipping input data to the valid range for imshow with RGB data ([0..1] for floats or [0..255] for integers).\n"
          ],
          "name": "stderr"
        },
        {
          "output_type": "stream",
          "text": [
            "(1, 256, 256, 3)\n",
            "0.020199612\n",
            "0.014717425\n",
            "0.05501751\n",
            "0.045288473\n",
            "0.0149392625\n",
            "0.030671123\n",
            "0.017565385\n",
            "0.01835844\n",
            "0.029130796\n",
            "0.013588893\n"
          ],
          "name": "stdout"
        },
        {
          "output_type": "stream",
          "text": [
            "Clipping input data to the valid range for imshow with RGB data ([0..1] for floats or [0..255] for integers).\n"
          ],
          "name": "stderr"
        },
        {
          "output_type": "stream",
          "text": [
            "(1, 256, 256, 3)\n",
            "0.027657427\n",
            "0.015711784\n",
            "0.028648421\n",
            "0.027441753\n",
            "0.043068856\n",
            "0.042559583\n",
            "0.013214959\n",
            "0.01699666\n",
            "0.03661525\n",
            "0.0272501\n"
          ],
          "name": "stdout"
        },
        {
          "output_type": "stream",
          "text": [
            "Clipping input data to the valid range for imshow with RGB data ([0..1] for floats or [0..255] for integers).\n"
          ],
          "name": "stderr"
        },
        {
          "output_type": "stream",
          "text": [
            "(1, 256, 256, 3)\n",
            "0.013986279\n",
            "0.051110987\n",
            "0.019867633\n",
            "0.041114885\n",
            "0.048114277\n",
            "0.038589336\n",
            "0.018947996\n",
            "0.013690142\n",
            "0.025718914\n",
            "0.049596377\n"
          ],
          "name": "stdout"
        },
        {
          "output_type": "stream",
          "text": [
            "Clipping input data to the valid range for imshow with RGB data ([0..1] for floats or [0..255] for integers).\n"
          ],
          "name": "stderr"
        },
        {
          "output_type": "stream",
          "text": [
            "(1, 256, 256, 3)\n",
            "0.018900767\n",
            "0.04132553\n",
            "0.018200813\n",
            "0.037181616\n",
            "0.04828205\n",
            "0.017010579\n",
            "0.015990192\n",
            "0.04218688\n",
            "0.028130533\n",
            "0.017351976\n"
          ],
          "name": "stdout"
        },
        {
          "output_type": "stream",
          "text": [
            "Clipping input data to the valid range for imshow with RGB data ([0..1] for floats or [0..255] for integers).\n"
          ],
          "name": "stderr"
        },
        {
          "output_type": "stream",
          "text": [
            "(1, 256, 256, 3)\n",
            "0.019480545\n",
            "0.03832516\n",
            "0.030291662\n",
            "0.017077442\n",
            "0.01726789\n",
            "0.020957794\n",
            "0.019475266\n",
            "0.020217948\n",
            "0.03599661\n",
            "0.01209745\n"
          ],
          "name": "stdout"
        },
        {
          "output_type": "stream",
          "text": [
            "Clipping input data to the valid range for imshow with RGB data ([0..1] for floats or [0..255] for integers).\n"
          ],
          "name": "stderr"
        },
        {
          "output_type": "stream",
          "text": [
            "(1, 256, 256, 3)\n",
            "0.031374626\n",
            "0.016556224\n",
            "0.017050983\n",
            "0.05725816\n",
            "0.04634709\n",
            "0.020954462\n",
            "0.02064897\n",
            "0.052599072\n",
            "0.014695009\n",
            "0.014703105\n"
          ],
          "name": "stdout"
        },
        {
          "output_type": "stream",
          "text": [
            "Clipping input data to the valid range for imshow with RGB data ([0..1] for floats or [0..255] for integers).\n"
          ],
          "name": "stderr"
        },
        {
          "output_type": "stream",
          "text": [
            "(1, 256, 256, 3)\n",
            "0.032609522\n",
            "0.022141282\n",
            "0.022208788\n",
            "0.0200162\n",
            "0.0150319915\n",
            "0.013880458\n",
            "0.04961534\n",
            "0.033415392\n",
            "0.014264628\n",
            "0.016971815\n"
          ],
          "name": "stdout"
        },
        {
          "output_type": "stream",
          "text": [
            "Clipping input data to the valid range for imshow with RGB data ([0..1] for floats or [0..255] for integers).\n"
          ],
          "name": "stderr"
        },
        {
          "output_type": "stream",
          "text": [
            "(1, 256, 256, 3)\n",
            "0.014754454\n",
            "0.043135867\n",
            "0.017239563\n",
            "0.030297048\n",
            "0.05793387\n",
            "0.013354613\n",
            "0.047598597\n",
            "0.027900573\n",
            "0.018702017\n",
            "0.014829232\n"
          ],
          "name": "stdout"
        },
        {
          "output_type": "stream",
          "text": [
            "Clipping input data to the valid range for imshow with RGB data ([0..1] for floats or [0..255] for integers).\n"
          ],
          "name": "stderr"
        },
        {
          "output_type": "stream",
          "text": [
            "(1, 256, 256, 3)\n",
            "0.019533563\n",
            "0.047845233\n",
            "0.0235952\n",
            "0.02670373\n",
            "0.027950354\n",
            "0.019449074\n",
            "0.034885947\n",
            "0.025501508\n",
            "0.029874217\n",
            "0.015799323\n"
          ],
          "name": "stdout"
        },
        {
          "output_type": "stream",
          "text": [
            "Clipping input data to the valid range for imshow with RGB data ([0..1] for floats or [0..255] for integers).\n"
          ],
          "name": "stderr"
        },
        {
          "output_type": "stream",
          "text": [
            "(1, 256, 256, 3)\n",
            "0.020679358\n",
            "0.008647623\n",
            "0.01089135\n",
            "0.016721893\n",
            "0.02462294\n",
            "0.025194325\n",
            "0.0126221925\n",
            "0.0235025\n",
            "0.035853952\n",
            "0.014266718\n"
          ],
          "name": "stdout"
        },
        {
          "output_type": "stream",
          "text": [
            "Clipping input data to the valid range for imshow with RGB data ([0..1] for floats or [0..255] for integers).\n"
          ],
          "name": "stderr"
        },
        {
          "output_type": "stream",
          "text": [
            "(1, 256, 256, 3)\n",
            "0.026666015\n",
            "0.013158096\n",
            "0.012889743\n",
            "0.013628437\n",
            "0.03467235\n",
            "0.010587098\n",
            "0.015983365\n",
            "0.014878983\n",
            "0.014875064\n",
            "0.015198614\n"
          ],
          "name": "stdout"
        },
        {
          "output_type": "stream",
          "text": [
            "Clipping input data to the valid range for imshow with RGB data ([0..1] for floats or [0..255] for integers).\n"
          ],
          "name": "stderr"
        },
        {
          "output_type": "stream",
          "text": [
            "(1, 256, 256, 3)\n",
            "0.014538274\n",
            "0.046988297\n",
            "0.014886081\n",
            "0.017803187\n",
            "0.022428107\n",
            "0.015332898\n",
            "0.04243285\n",
            "0.022788657\n",
            "0.010803822\n",
            "0.015238493\n"
          ],
          "name": "stdout"
        },
        {
          "output_type": "stream",
          "text": [
            "Clipping input data to the valid range for imshow with RGB data ([0..1] for floats or [0..255] for integers).\n"
          ],
          "name": "stderr"
        },
        {
          "output_type": "stream",
          "text": [
            "(1, 256, 256, 3)\n",
            "0.022854937\n",
            "0.009369434\n",
            "0.016715363\n",
            "0.010355567\n",
            "0.01535894\n",
            "0.02274565\n",
            "0.02297666\n",
            "0.022463316\n",
            "0.023211017\n",
            "0.015302614\n"
          ],
          "name": "stdout"
        },
        {
          "output_type": "stream",
          "text": [
            "Clipping input data to the valid range for imshow with RGB data ([0..1] for floats or [0..255] for integers).\n"
          ],
          "name": "stderr"
        },
        {
          "output_type": "stream",
          "text": [
            "(1, 256, 256, 3)\n",
            "0.015213376\n",
            "0.010878771\n",
            "0.014315385\n",
            "0.034780025\n",
            "0.03271892\n",
            "0.014757251\n",
            "0.010255617\n",
            "0.0092670815\n",
            "0.03166175\n",
            "0.031694658\n"
          ],
          "name": "stdout"
        },
        {
          "output_type": "stream",
          "text": [
            "Clipping input data to the valid range for imshow with RGB data ([0..1] for floats or [0..255] for integers).\n"
          ],
          "name": "stderr"
        },
        {
          "output_type": "stream",
          "text": [
            "(1, 256, 256, 3)\n",
            "0.024817575\n",
            "0.012066318\n",
            "0.014020973\n",
            "0.03156993\n",
            "0.009474893\n",
            "0.023120783\n",
            "0.01191192\n",
            "0.010552625\n",
            "0.007968532\n",
            "0.011872083\n"
          ],
          "name": "stdout"
        },
        {
          "output_type": "stream",
          "text": [
            "Clipping input data to the valid range for imshow with RGB data ([0..1] for floats or [0..255] for integers).\n"
          ],
          "name": "stderr"
        },
        {
          "output_type": "stream",
          "text": [
            "(1, 256, 256, 3)\n",
            "0.032480266\n",
            "0.014844522\n",
            "0.038243182\n",
            "0.012763195\n",
            "0.011542828\n",
            "0.02563063\n",
            "0.011200348\n",
            "0.02512315\n",
            "0.019775564\n",
            "0.02834516\n"
          ],
          "name": "stdout"
        },
        {
          "output_type": "stream",
          "text": [
            "Clipping input data to the valid range for imshow with RGB data ([0..1] for floats or [0..255] for integers).\n"
          ],
          "name": "stderr"
        },
        {
          "output_type": "stream",
          "text": [
            "(1, 256, 256, 3)\n",
            "0.048595123\n",
            "0.015965141\n",
            "0.017490508\n",
            "0.015055565\n",
            "0.047330137\n",
            "0.031585857\n",
            "0.043850183\n",
            "0.027425366\n",
            "0.012092313\n",
            "0.014723696\n"
          ],
          "name": "stdout"
        },
        {
          "output_type": "stream",
          "text": [
            "Clipping input data to the valid range for imshow with RGB data ([0..1] for floats or [0..255] for integers).\n"
          ],
          "name": "stderr"
        },
        {
          "output_type": "stream",
          "text": [
            "(1, 256, 256, 3)\n",
            "0.014109901\n",
            "0.017131163\n",
            "0.015166832\n",
            "0.011816351\n",
            "0.019266807\n",
            "0.03734616\n",
            "0.018288776\n",
            "0.018674111\n",
            "0.030660527\n",
            "0.025160398\n"
          ],
          "name": "stdout"
        },
        {
          "output_type": "stream",
          "text": [
            "Clipping input data to the valid range for imshow with RGB data ([0..1] for floats or [0..255] for integers).\n"
          ],
          "name": "stderr"
        },
        {
          "output_type": "stream",
          "text": [
            "(1, 256, 256, 3)\n",
            "0.026619427\n",
            "0.025121756\n",
            "0.038025208\n",
            "0.020865459\n",
            "0.033628806\n",
            "0.01458035\n",
            "0.03216183\n",
            "0.018863073\n",
            "0.02867667\n",
            "0.025065972\n"
          ],
          "name": "stdout"
        },
        {
          "output_type": "stream",
          "text": [
            "Clipping input data to the valid range for imshow with RGB data ([0..1] for floats or [0..255] for integers).\n"
          ],
          "name": "stderr"
        },
        {
          "output_type": "stream",
          "text": [
            "(1, 256, 256, 3)\n"
          ],
          "name": "stdout"
        },
        {
          "output_type": "display_data",
          "data": {
            "text/plain": [
              "<Figure size 432x288 with 0 Axes>"
            ]
          },
          "metadata": {
            "tags": []
          }
        },
        {
          "output_type": "display_data",
          "data": {
            "text/plain": [
              "<Figure size 432x288 with 0 Axes>"
            ]
          },
          "metadata": {
            "tags": []
          }
        },
        {
          "output_type": "display_data",
          "data": {
            "text/plain": [
              "<Figure size 432x288 with 0 Axes>"
            ]
          },
          "metadata": {
            "tags": []
          }
        },
        {
          "output_type": "display_data",
          "data": {
            "text/plain": [
              "<Figure size 432x288 with 0 Axes>"
            ]
          },
          "metadata": {
            "tags": []
          }
        },
        {
          "output_type": "display_data",
          "data": {
            "text/plain": [
              "<Figure size 432x288 with 0 Axes>"
            ]
          },
          "metadata": {
            "tags": []
          }
        },
        {
          "output_type": "display_data",
          "data": {
            "text/plain": [
              "<Figure size 432x288 with 0 Axes>"
            ]
          },
          "metadata": {
            "tags": []
          }
        },
        {
          "output_type": "display_data",
          "data": {
            "text/plain": [
              "<Figure size 432x288 with 0 Axes>"
            ]
          },
          "metadata": {
            "tags": []
          }
        },
        {
          "output_type": "display_data",
          "data": {
            "text/plain": [
              "<Figure size 432x288 with 0 Axes>"
            ]
          },
          "metadata": {
            "tags": []
          }
        },
        {
          "output_type": "display_data",
          "data": {
            "text/plain": [
              "<Figure size 432x288 with 0 Axes>"
            ]
          },
          "metadata": {
            "tags": []
          }
        },
        {
          "output_type": "display_data",
          "data": {
            "text/plain": [
              "<Figure size 432x288 with 0 Axes>"
            ]
          },
          "metadata": {
            "tags": []
          }
        },
        {
          "output_type": "display_data",
          "data": {
            "text/plain": [
              "<Figure size 432x288 with 0 Axes>"
            ]
          },
          "metadata": {
            "tags": []
          }
        },
        {
          "output_type": "display_data",
          "data": {
            "text/plain": [
              "<Figure size 432x288 with 0 Axes>"
            ]
          },
          "metadata": {
            "tags": []
          }
        },
        {
          "output_type": "display_data",
          "data": {
            "text/plain": [
              "<Figure size 432x288 with 0 Axes>"
            ]
          },
          "metadata": {
            "tags": []
          }
        },
        {
          "output_type": "display_data",
          "data": {
            "text/plain": [
              "<Figure size 432x288 with 0 Axes>"
            ]
          },
          "metadata": {
            "tags": []
          }
        },
        {
          "output_type": "display_data",
          "data": {
            "text/plain": [
              "<Figure size 432x288 with 0 Axes>"
            ]
          },
          "metadata": {
            "tags": []
          }
        },
        {
          "output_type": "display_data",
          "data": {
            "text/plain": [
              "<Figure size 432x288 with 0 Axes>"
            ]
          },
          "metadata": {
            "tags": []
          }
        },
        {
          "output_type": "display_data",
          "data": {
            "text/plain": [
              "<Figure size 432x288 with 0 Axes>"
            ]
          },
          "metadata": {
            "tags": []
          }
        },
        {
          "output_type": "display_data",
          "data": {
            "text/plain": [
              "<Figure size 432x288 with 0 Axes>"
            ]
          },
          "metadata": {
            "tags": []
          }
        },
        {
          "output_type": "display_data",
          "data": {
            "text/plain": [
              "<Figure size 432x288 with 0 Axes>"
            ]
          },
          "metadata": {
            "tags": []
          }
        },
        {
          "output_type": "display_data",
          "data": {
            "text/plain": [
              "<Figure size 432x288 with 0 Axes>"
            ]
          },
          "metadata": {
            "tags": []
          }
        },
        {
          "output_type": "display_data",
          "data": {
            "text/plain": [
              "<Figure size 432x288 with 0 Axes>"
            ]
          },
          "metadata": {
            "tags": []
          }
        },
        {
          "output_type": "display_data",
          "data": {
            "text/plain": [
              "<Figure size 432x288 with 0 Axes>"
            ]
          },
          "metadata": {
            "tags": []
          }
        },
        {
          "output_type": "display_data",
          "data": {
            "text/plain": [
              "<Figure size 432x288 with 0 Axes>"
            ]
          },
          "metadata": {
            "tags": []
          }
        },
        {
          "output_type": "display_data",
          "data": {
            "text/plain": [
              "<Figure size 432x288 with 0 Axes>"
            ]
          },
          "metadata": {
            "tags": []
          }
        },
        {
          "output_type": "display_data",
          "data": {
            "text/plain": [
              "<Figure size 432x288 with 0 Axes>"
            ]
          },
          "metadata": {
            "tags": []
          }
        },
        {
          "output_type": "display_data",
          "data": {
            "text/plain": [
              "<Figure size 432x288 with 0 Axes>"
            ]
          },
          "metadata": {
            "tags": []
          }
        },
        {
          "output_type": "display_data",
          "data": {
            "text/plain": [
              "<Figure size 432x288 with 0 Axes>"
            ]
          },
          "metadata": {
            "tags": []
          }
        },
        {
          "output_type": "display_data",
          "data": {
            "text/plain": [
              "<Figure size 432x288 with 0 Axes>"
            ]
          },
          "metadata": {
            "tags": []
          }
        },
        {
          "output_type": "display_data",
          "data": {
            "text/plain": [
              "<Figure size 432x288 with 0 Axes>"
            ]
          },
          "metadata": {
            "tags": []
          }
        },
        {
          "output_type": "display_data",
          "data": {
            "text/plain": [
              "<Figure size 432x288 with 0 Axes>"
            ]
          },
          "metadata": {
            "tags": []
          }
        },
        {
          "output_type": "display_data",
          "data": {
            "text/plain": [
              "<Figure size 432x288 with 0 Axes>"
            ]
          },
          "metadata": {
            "tags": []
          }
        },
        {
          "output_type": "display_data",
          "data": {
            "text/plain": [
              "<Figure size 432x288 with 0 Axes>"
            ]
          },
          "metadata": {
            "tags": []
          }
        },
        {
          "output_type": "display_data",
          "data": {
            "text/plain": [
              "<Figure size 432x288 with 0 Axes>"
            ]
          },
          "metadata": {
            "tags": []
          }
        },
        {
          "output_type": "display_data",
          "data": {
            "text/plain": [
              "<Figure size 432x288 with 0 Axes>"
            ]
          },
          "metadata": {
            "tags": []
          }
        },
        {
          "output_type": "display_data",
          "data": {
            "text/plain": [
              "<Figure size 432x288 with 0 Axes>"
            ]
          },
          "metadata": {
            "tags": []
          }
        },
        {
          "output_type": "display_data",
          "data": {
            "text/plain": [
              "<Figure size 432x288 with 0 Axes>"
            ]
          },
          "metadata": {
            "tags": []
          }
        },
        {
          "output_type": "display_data",
          "data": {
            "text/plain": [
              "<Figure size 432x288 with 0 Axes>"
            ]
          },
          "metadata": {
            "tags": []
          }
        },
        {
          "output_type": "display_data",
          "data": {
            "text/plain": [
              "<Figure size 432x288 with 0 Axes>"
            ]
          },
          "metadata": {
            "tags": []
          }
        },
        {
          "output_type": "display_data",
          "data": {
            "text/plain": [
              "<Figure size 432x288 with 0 Axes>"
            ]
          },
          "metadata": {
            "tags": []
          }
        },
        {
          "output_type": "display_data",
          "data": {
            "text/plain": [
              "<Figure size 432x288 with 0 Axes>"
            ]
          },
          "metadata": {
            "tags": []
          }
        },
        {
          "output_type": "display_data",
          "data": {
            "text/plain": [
              "<Figure size 432x288 with 0 Axes>"
            ]
          },
          "metadata": {
            "tags": []
          }
        },
        {
          "output_type": "display_data",
          "data": {
            "text/plain": [
              "<Figure size 432x288 with 0 Axes>"
            ]
          },
          "metadata": {
            "tags": []
          }
        },
        {
          "output_type": "display_data",
          "data": {
            "text/plain": [
              "<Figure size 432x288 with 0 Axes>"
            ]
          },
          "metadata": {
            "tags": []
          }
        },
        {
          "output_type": "display_data",
          "data": {
            "text/plain": [
              "<Figure size 432x288 with 0 Axes>"
            ]
          },
          "metadata": {
            "tags": []
          }
        },
        {
          "output_type": "display_data",
          "data": {
            "text/plain": [
              "<Figure size 432x288 with 0 Axes>"
            ]
          },
          "metadata": {
            "tags": []
          }
        },
        {
          "output_type": "display_data",
          "data": {
            "text/plain": [
              "<Figure size 432x288 with 0 Axes>"
            ]
          },
          "metadata": {
            "tags": []
          }
        },
        {
          "output_type": "display_data",
          "data": {
            "text/plain": [
              "<Figure size 432x288 with 0 Axes>"
            ]
          },
          "metadata": {
            "tags": []
          }
        },
        {
          "output_type": "display_data",
          "data": {
            "text/plain": [
              "<Figure size 432x288 with 0 Axes>"
            ]
          },
          "metadata": {
            "tags": []
          }
        },
        {
          "output_type": "display_data",
          "data": {
            "text/plain": [
              "<Figure size 432x288 with 0 Axes>"
            ]
          },
          "metadata": {
            "tags": []
          }
        },
        {
          "output_type": "display_data",
          "data": {
            "text/plain": [
              "<Figure size 432x288 with 0 Axes>"
            ]
          },
          "metadata": {
            "tags": []
          }
        },
        {
          "output_type": "display_data",
          "data": {
            "text/plain": [
              "<Figure size 432x288 with 0 Axes>"
            ]
          },
          "metadata": {
            "tags": []
          }
        }
      ]
    }
  ]
}